{
  "nbformat": 4,
  "nbformat_minor": 0,
  "metadata": {
    "colab": {
      "name": "open xml file",
      "provenance": [],
      "authorship_tag": "ABX9TyP/dlz/ZK1tYFMWS0bzDQlY",
      "include_colab_link": true
    },
    "kernelspec": {
      "name": "python3",
      "display_name": "Python 3"
    }
  },
  "cells": [
    {
      "cell_type": "markdown",
      "metadata": {
        "id": "view-in-github",
        "colab_type": "text"
      },
      "source": [
        "<a href=\"https://colab.research.google.com/github/bansalshaleen/POS-tagging/blob/main/open_xml_file.ipynb\" target=\"_parent\"><img src=\"https://colab.research.google.com/assets/colab-badge.svg\" alt=\"Open In Colab\"/></a>"
      ]
    },
    {
      "cell_type": "code",
      "metadata": {
        "id": "tiCmLumJcYE2",
        "outputId": "12d3f62e-c15f-4c02-ff99-34bcb353c322",
        "colab": {
          "base_uri": "https://localhost:8080/",
          "height": 51
        }
      },
      "source": [
        "from bs4 import BeautifulSoup \n",
        "from google.colab import drive\n",
        "drive.mount('/gdrive')\n",
        "%cd /gdrive"
      ],
      "execution_count": null,
      "outputs": [
        {
          "output_type": "stream",
          "text": [
            "Mounted at /gdrive\n",
            "/gdrive\n"
          ],
          "name": "stdout"
        }
      ]
    },
    {
      "cell_type": "code",
      "metadata": {
        "id": "HS800QakcnYP"
      },
      "source": [
        "\n",
        "#file = r'/gdrive/My Drive/3-1/csn-371/assignment 1/Assignment-files/Train-corups/A1/A1A.xml'\n",
        "with open('/gdrive/My Drive/3-1/csn-371/assignment 1/Assignment-files/Train-corups/A1/A1A.xml', 'r') as f:\n",
        "  data = f.read() \n",
        "Bs_data = BeautifulSoup(data, \"xml\")\n",
        "print(Bs_data) \n",
        "#b_unique = Bs_data.find_all('unique') \n",
        "  \n",
        "#print(b_unique) \n",
        "\n"
      ],
      "execution_count": null,
      "outputs": []
    },
    {
      "cell_type": "code",
      "metadata": {
        "id": "W5OvCbSodfev"
      },
      "source": [
        "from xml.dom.minidom import parse\n",
        "\n",
        "yXML = parse('/gdrive/My Drive/3-1/csn-371/assignment 1/Assignment-files/Train-corups/A1/A1A.xml')\n",
        "\n",
        "print (' ')\n",
        "print ('n       |       C5       |       hw       |       pos')\n",
        "\n",
        "for bncDoc in yXML.getElementsByTagName('bncDoc'):\n",
        "  #print(1)\n",
        "  for wtext in bncDoc.getElementsByTagName('wtext'):\n",
        "    #print(1)\n",
        "    for p in wtext.getElementsByTagName('p'):\n",
        "      #print(1)\n",
        "      for s in p.getElementsByTagName('s'):\n",
        "        #print(1)\n",
        "        #for c in s.getElementsByTagName('c'):\n",
        "          #print(2)\n",
        "        for w in s.getElementsByTagName('w'):\n",
        "          #print(1)\n",
        "          print(s.getAttribute('n'), ' | ', w.getAttribute('c5'),' | ', w.getAttribute('hw'), ' | ', w.getAttribute('pos'))"
      ],
      "execution_count": null,
      "outputs": []
    },
    {
      "cell_type": "code",
      "metadata": {
        "id": "vpqSVpKbmNge"
      },
      "source": [
        ""
      ],
      "execution_count": null,
      "outputs": []
    }
  ]
}